{
 "cells": [
  {
   "cell_type": "code",
   "execution_count": 3,
   "metadata": {},
   "outputs": [],
   "source": [
    "import time\n",
    "from gtts import gTTS\n",
    "from pygame import mixer\n",
    "import tempfile\n",
    "import os.path\n",
    "\n",
    "#此函數會請Google小姐幫我們唸出賀詞並錄成mp3\n",
    "#如果沒有指定對象，會使用tempfile當播放完音檔自動刪掉檔案\n",
    "#如果有指定對象，會啟動檔案檢查後再執行錄音、儲存與播放\n",
    "\n",
    "def mensTalk(sentence, lang, who = \"nobady\", loop=1):\n",
    "    #初始化mixer\n",
    "    mixer.init()\n",
    "    #音檔路徑\n",
    "    \n",
    "    path=\"./audio/\"\n",
    "    fileName =path+ '{}.mp3'.format(who)\n",
    "    \n",
    "    #如果who非nobady\n",
    "    if who != \"nobady\" :\n",
    "        #檢查檔案是否存在如果不存在再啟動錄音與播放\n",
    "        if os.path.isfile(fileName) is True: \n",
    "         mixer.music.load(fileName)\n",
    "         mixer.music.play(loop)\n",
    "        else :\n",
    "         tts=gTTS(text=sentence, lang=lang)\n",
    "         tts.save(path+'{}.mp3'.format(who))\n",
    "         mixer.music.load(fileName)\n",
    "         mixer.music.play(loop)\n",
    "    #進入nobady模式使用tempfile進行暫時錄音與播放\n",
    "    else :\n",
    "        with tempfile.NamedTemporaryFile(delete=True) as fp:\n",
    "          tts=gTTS(text=sentence, lang=lang)\n",
    "          tts.save('{}.mp3'.format(fp.name))\n",
    "          mixer.music.load('{}.mp3'.format(fp.name))\n",
    "          mixer.music.play(loop)\n",
    "          \n",
    "\n",
    "            "
   ]
  },
  {
   "cell_type": "code",
   "execution_count": 6,
   "metadata": {},
   "outputs": [
    {
     "name": "stdout",
     "output_type": "stream",
     "text": [
      "發哥\n",
      "志玲姊姊\n",
      "阿妹\n",
      "孫爺爺\n",
      "范爺\n",
      "阿武\n",
      "蔡姊\n"
     ]
    }
   ],
   "source": [
    "#範例一 \n",
    "dic={\"孫爺爺\":\"孫爺爺新年快樂年年有今日歲歲有今朝\",\n",
    "     \"蔡姊\":\"蔡阿姨新年快樂台灣好聲音場場爆滿\",\n",
    "     \"志玲姊姊\":\"志玲姊姊新年快樂小喬嫁入大戶人家\",\n",
    "     \"阿武\":\"阿武新年快樂世界越快心則慢\",\n",
    "     \"發哥\":\"發哥新年快樂賭神拍續集問鼎奧斯卡\",\n",
    "     \"范爺\":\"范爺新年快樂橫掃演藝圈進軍好萊塢\",\n",
    "     \"阿妹\":\"阿妹新年快樂寫信告訴我今夜你要夢什麼\"}\n",
    "\n",
    "for key, value in dic.items():\n",
    "  mensTalk(sentence=value,lang=\"zh-TW\",who=key) \n",
    "  print(key)\n",
    "  time.sleep(8)\n",
    "\n",
    "#範例二\n",
    "value=\"happy new year although i don't know who are you\"\n",
    "mensTalk(sentence=value,lang=\"en\",who=\"其他人\")"
   ]
  },
  {
   "cell_type": "code",
   "execution_count": 5,
   "metadata": {},
   "outputs": [
    {
     "name": "stdout",
     "output_type": "stream",
     "text": [
      "./audio/IS.mp3\n"
     ]
    }
   ],
   "source": [
    "who=\"IS\"\n",
    "path=\"./audio/\"\n",
    "filePath =path+ '{}.mp3'.format(who)\n",
    "print(filePath)"
   ]
  },
  {
   "cell_type": "code",
   "execution_count": 6,
   "metadata": {},
   "outputs": [
    {
     "name": "stdout",
     "output_type": "stream",
     "text": [
      "姊姊\n",
      "阿姨\n",
      "爸爸\n",
      "媽媽\n",
      "女友\n",
      "哥哥\n",
      "我\n"
     ]
    }
   ],
   "source": [
    "dic={\"女友\":\"警告警告女友出現\",\n",
    "     \"阿姨\":\"原來是阿姨阿\",\n",
    "     \"姊姊\":\"原來是姊姊阿\",\n",
    "     \"哥哥\":\"原來是哥哥阿\",\n",
    "     \"爸爸\":\"原來是爸爸阿\",\n",
    "     \"媽媽\":\"原來是媽媽阿\",\n",
    "     \"我\":\"原來是我阿\"}\n",
    "\n",
    "for key, value in dic.items():\n",
    "  mensTalk(sentence=value,lang=\"zh-TW\",who=key) \n",
    "  print(key)\n",
    "  time.sleep(8)"
   ]
  },
  {
   "cell_type": "code",
   "execution_count": null,
   "metadata": {},
   "outputs": [],
   "source": []
  }
 ],
 "metadata": {
  "kernelspec": {
   "display_name": "Python 3",
   "language": "python",
   "name": "python3"
  },
  "language_info": {
   "codemirror_mode": {
    "name": "ipython",
    "version": 3
   },
   "file_extension": ".py",
   "mimetype": "text/x-python",
   "name": "python",
   "nbconvert_exporter": "python",
   "pygments_lexer": "ipython3",
   "version": "3.5.2"
  }
 },
 "nbformat": 4,
 "nbformat_minor": 2
}
